{
  "nbformat": 4,
  "nbformat_minor": 0,
  "metadata": {
    "colab": {
      "provenance": [],
      "collapsed_sections": []
    },
    "kernelspec": {
      "name": "python3",
      "display_name": "Python 3"
    },
    "language_info": {
      "name": "python"
    },
    "accelerator": "GPU",
    "gpuClass": "standard"
  },
  "cells": [
    {
      "cell_type": "markdown",
      "source": [
        "### Installing required libraries"
      ],
      "metadata": {
        "id": "7jKoiNdSSDHG"
      }
    },
    {
      "cell_type": "code",
      "source": [
        "!pip install transformers sentencepiece gradio"
      ],
      "metadata": {
        "id": "jsSI686eGhji"
      },
      "execution_count": null,
      "outputs": []
    },
    {
      "cell_type": "markdown",
      "source": [
        "### Pipeline function"
      ],
      "metadata": {
        "id": "N3c470QlSOGl"
      }
    },
    {
      "cell_type": "code",
      "source": [
        "from transformers import pipeline\n",
        "\n",
        "pipe = pipeline('text-generation', model='daspartho/prompt-extend', device=0)\n",
        "\n",
        "def extend_prompt(prompt):\n",
        "    return pipe(prompt+',', num_return_sequences=1)[0][\"generated_text\"]"
      ],
      "metadata": {
        "id": "su9cVTeHSANa"
      },
      "execution_count": null,
      "outputs": []
    },
    {
      "cell_type": "markdown",
      "source": [
        "### Gradio app"
      ],
      "metadata": {
        "id": "tq3OKNGWSQ9N"
      }
    },
    {
      "cell_type": "code",
      "execution_count": null,
      "metadata": {
        "id": "2AoQBLbx_e_l"
      },
      "outputs": [],
      "source": [
        "import gradio as gr\n",
        "\n",
        "examples = [\n",
        "            ['elon musk as thor'],\n",
        "            [\"giant dragon flying in the sky\"],\n",
        "            ['psychedelic liquids space'],\n",
        "            [\"a coconut laying on the beach\"],\n",
        "            [\"peaceful village landscape\"],\n",
        "            ]\n",
        "\n",
        "iface = gr.Interface(\n",
        "    description = \"Enter a main idea for a prompt, and the model will attempt to add appropriate style cues.\",\n",
        "    article = \"<p style='text-align: center'><a href='https://github.com/daspartho/prompt-extend' target='_blank'>Github</a></p>\",\n",
        "    fn=extend_prompt, \n",
        "    inputs=gr.Text(label=\"Type the prompt here\"), \n",
        "    outputs=gr.TextArea(label='Extended prompt'),\n",
        "    examples=examples,\n",
        "    title=\"Prompt Extend\"\n",
        "    )\n",
        "\n",
        "iface.launch()"
      ]
    }
  ]
}